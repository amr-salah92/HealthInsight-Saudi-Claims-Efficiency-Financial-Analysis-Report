{
 "cells": [
  {
   "cell_type": "code",
   "execution_count": 361,
   "id": "4768c71f",
   "metadata": {},
   "outputs": [],
   "source": [
    "import  pandas as pd \n",
    "import numpy as np \n",
    "import matplotlib.pyplot as plt \n"
   ]
  },
  {
   "cell_type": "code",
   "execution_count": 362,
   "id": "915d6d42",
   "metadata": {},
   "outputs": [
    {
     "data": {
      "text/html": [
       "<div>\n",
       "<style scoped>\n",
       "    .dataframe tbody tr th:only-of-type {\n",
       "        vertical-align: middle;\n",
       "    }\n",
       "\n",
       "    .dataframe tbody tr th {\n",
       "        vertical-align: top;\n",
       "    }\n",
       "\n",
       "    .dataframe thead th {\n",
       "        text-align: right;\n",
       "    }\n",
       "</style>\n",
       "<table border=\"1\" class=\"dataframe\">\n",
       "  <thead>\n",
       "    <tr style=\"text-align: right;\">\n",
       "      <th></th>\n",
       "      <th>claim_id</th>\n",
       "      <th>member_id</th>\n",
       "      <th>provider_id</th>\n",
       "      <th>claim_type</th>\n",
       "      <th>service_date</th>\n",
       "      <th>submission_date</th>\n",
       "      <th>decision_date</th>\n",
       "      <th>claim_amount</th>\n",
       "      <th>approved_amount</th>\n",
       "      <th>claim_status</th>\n",
       "      <th>adjudicator_id</th>\n",
       "      <th>denial_reason</th>\n",
       "      <th>policy_id</th>\n",
       "      <th>icd_code</th>\n",
       "      <th>cpt_code</th>\n",
       "      <th>ada_code</th>\n",
       "      <th>is_compliant</th>\n",
       "      <th>city</th>\n",
       "    </tr>\n",
       "  </thead>\n",
       "  <tbody>\n",
       "    <tr>\n",
       "      <th>0</th>\n",
       "      <td>C000000</td>\n",
       "      <td>M1663</td>\n",
       "      <td>P365</td>\n",
       "      <td>Dental</td>\n",
       "      <td>1/24/2024</td>\n",
       "      <td>3/21/2025</td>\n",
       "      <td>4/4/2025</td>\n",
       "      <td>5533.25</td>\n",
       "      <td>5533.25</td>\n",
       "      <td>Approved</td>\n",
       "      <td>A75</td>\n",
       "      <td>NaN</td>\n",
       "      <td>POL8961</td>\n",
       "      <td>NaN</td>\n",
       "      <td>NaN</td>\n",
       "      <td>D7210</td>\n",
       "      <td>False</td>\n",
       "      <td>Makkah</td>\n",
       "    </tr>\n",
       "    <tr>\n",
       "      <th>1</th>\n",
       "      <td>C000001</td>\n",
       "      <td>M4578</td>\n",
       "      <td>P616</td>\n",
       "      <td>Dental</td>\n",
       "      <td>3/19/2024</td>\n",
       "      <td>1/13/2025</td>\n",
       "      <td>2/12/2025</td>\n",
       "      <td>7180.37</td>\n",
       "      <td>7180.37</td>\n",
       "      <td>Approved</td>\n",
       "      <td>A27</td>\n",
       "      <td>NaN</td>\n",
       "      <td>POL5617</td>\n",
       "      <td>NaN</td>\n",
       "      <td>NaN</td>\n",
       "      <td>D1110</td>\n",
       "      <td>True</td>\n",
       "      <td>Medina</td>\n",
       "    </tr>\n",
       "    <tr>\n",
       "      <th>2</th>\n",
       "      <td>C000002</td>\n",
       "      <td>M3407</td>\n",
       "      <td>P417</td>\n",
       "      <td>Dental</td>\n",
       "      <td>12/23/2022</td>\n",
       "      <td>7/6/2023</td>\n",
       "      <td>7/24/2023</td>\n",
       "      <td>6067.36</td>\n",
       "      <td>6067.36</td>\n",
       "      <td>Approved</td>\n",
       "      <td>A22</td>\n",
       "      <td>NaN</td>\n",
       "      <td>POL2208</td>\n",
       "      <td>NaN</td>\n",
       "      <td>NaN</td>\n",
       "      <td>D2740</td>\n",
       "      <td>False</td>\n",
       "      <td>Medina</td>\n",
       "    </tr>\n",
       "    <tr>\n",
       "      <th>3</th>\n",
       "      <td>C000003</td>\n",
       "      <td>M4350</td>\n",
       "      <td>P665</td>\n",
       "      <td>Medical</td>\n",
       "      <td>6/17/2023</td>\n",
       "      <td>7/6/2024</td>\n",
       "      <td>7/17/2024</td>\n",
       "      <td>5494.34</td>\n",
       "      <td>5494.34</td>\n",
       "      <td>Approved</td>\n",
       "      <td>A71</td>\n",
       "      <td>NaN</td>\n",
       "      <td>POL8253</td>\n",
       "      <td>E04</td>\n",
       "      <td>99203.0</td>\n",
       "      <td>NaN</td>\n",
       "      <td>True</td>\n",
       "      <td>Medina</td>\n",
       "    </tr>\n",
       "    <tr>\n",
       "      <th>4</th>\n",
       "      <td>C000004</td>\n",
       "      <td>M9086</td>\n",
       "      <td>P947</td>\n",
       "      <td>Medical</td>\n",
       "      <td>2/3/2024</td>\n",
       "      <td>4/14/2024</td>\n",
       "      <td>5/4/2024</td>\n",
       "      <td>4294.18</td>\n",
       "      <td>3246.75</td>\n",
       "      <td>Pending</td>\n",
       "      <td>A41</td>\n",
       "      <td>Not Covered</td>\n",
       "      <td>POL6328</td>\n",
       "      <td>A00</td>\n",
       "      <td>99202.0</td>\n",
       "      <td>NaN</td>\n",
       "      <td>True</td>\n",
       "      <td>Jeddah</td>\n",
       "    </tr>\n",
       "  </tbody>\n",
       "</table>\n",
       "</div>"
      ],
      "text/plain": [
       "  claim_id member_id provider_id claim_type service_date submission_date  \\\n",
       "0  C000000     M1663        P365     Dental    1/24/2024       3/21/2025   \n",
       "1  C000001     M4578        P616     Dental    3/19/2024       1/13/2025   \n",
       "2  C000002     M3407        P417     Dental   12/23/2022        7/6/2023   \n",
       "3  C000003     M4350        P665    Medical    6/17/2023        7/6/2024   \n",
       "4  C000004     M9086        P947    Medical     2/3/2024       4/14/2024   \n",
       "\n",
       "  decision_date  claim_amount  approved_amount claim_status adjudicator_id  \\\n",
       "0      4/4/2025       5533.25          5533.25     Approved            A75   \n",
       "1     2/12/2025       7180.37          7180.37     Approved            A27   \n",
       "2     7/24/2023       6067.36          6067.36     Approved            A22   \n",
       "3     7/17/2024       5494.34          5494.34     Approved            A71   \n",
       "4      5/4/2024       4294.18          3246.75      Pending            A41   \n",
       "\n",
       "  denial_reason policy_id icd_code  cpt_code ada_code  is_compliant    city  \n",
       "0           NaN   POL8961      NaN       NaN    D7210         False  Makkah  \n",
       "1           NaN   POL5617      NaN       NaN    D1110          True  Medina  \n",
       "2           NaN   POL2208      NaN       NaN    D2740         False  Medina  \n",
       "3           NaN   POL8253      E04   99203.0      NaN          True  Medina  \n",
       "4   Not Covered   POL6328      A00   99202.0      NaN          True  Jeddah  "
      ]
     },
     "execution_count": 362,
     "metadata": {},
     "output_type": "execute_result"
    }
   ],
   "source": [
    "data = pd.read_csv(r\"E:\\python projects\\Datasets\\saudi_health_dental_claims_uncleaned_50000.csv\")\n",
    "\n",
    "data.head()"
   ]
  },
  {
   "cell_type": "code",
   "execution_count": 363,
   "id": "d80c1264",
   "metadata": {},
   "outputs": [
    {
     "name": "stdout",
     "output_type": "stream",
     "text": [
      "<class 'pandas.core.frame.DataFrame'>\n",
      "RangeIndex: 50000 entries, 0 to 49999\n",
      "Data columns (total 18 columns):\n",
      " #   Column           Non-Null Count  Dtype  \n",
      "---  ------           --------------  -----  \n",
      " 0   claim_id         50000 non-null  object \n",
      " 1   member_id        50000 non-null  object \n",
      " 2   provider_id      50000 non-null  object \n",
      " 3   claim_type       50000 non-null  object \n",
      " 4   service_date     50000 non-null  object \n",
      " 5   submission_date  50000 non-null  object \n",
      " 6   decision_date    50000 non-null  object \n",
      " 7   claim_amount     50000 non-null  float64\n",
      " 8   approved_amount  50000 non-null  float64\n",
      " 9   claim_status     50000 non-null  object \n",
      " 10  adjudicator_id   50000 non-null  object \n",
      " 11  denial_reason    10038 non-null  object \n",
      " 12  policy_id        50000 non-null  object \n",
      " 13  icd_code         24940 non-null  object \n",
      " 14  cpt_code         24940 non-null  float64\n",
      " 15  ada_code         25060 non-null  object \n",
      " 16  is_compliant     50000 non-null  bool   \n",
      " 17  city             50000 non-null  object \n",
      "dtypes: bool(1), float64(3), object(14)\n",
      "memory usage: 6.5+ MB\n"
     ]
    }
   ],
   "source": [
    "data.info()"
   ]
  },
  {
   "cell_type": "markdown",
   "id": "7b413ef9",
   "metadata": {},
   "source": [
    "| **Column Name**      | **Technical Meaning**                                             | **Business Meaning / Use Case**                                                                 | **Example**   |\n",
    "| -------------------- | ----------------------------------------------------------------- | ----------------------------------------------------------------------------------------------- | ------------- |\n",
    "| **claim\\_id**        | Unique string identifier for each claim.                          | Used to track and reference a specific healthcare claim transaction.                            | `C000000`     |\n",
    "| **member\\_id**       | Unique ID for the insured member (patient).                       | Links claim to a policyholder for medical and financial history analysis.                       | `M1663`       |\n",
    "| **provider\\_id**     | Unique ID for the healthcare provider.                            | Tracks provider performance, billing behavior, and network analysis.                            | `P365`        |\n",
    "| **claim\\_type**      | Category of the claim: \"Medical\", \"Dental\", etc.                  | Allows segmentation of claim data for reporting by service type.                                | `Dental`      |\n",
    "| **service\\_date**    | Date when the healthcare service was delivered.                   | Used to measure time to submission and detect patterns in service delivery.                     | `1/24/2024`   |\n",
    "| **submission\\_date** | Date the claim was submitted to the insurance.                    | Helps evaluate claim processing delays and efficiency (submission vs. service).                 | `3/21/2025`   |\n",
    "| **decision\\_date**   | Date when claim was approved/denied.                              | Measures turnaround time and operational efficiency.                                            | `4/4/2025`    |\n",
    "| **claim\\_amount**    | Total amount billed by provider.                                  | Represents gross cost to insurer before approval/denial decisions.                              | `5533.25`     |\n",
    "| **approved\\_amount** | Amount approved for reimbursement by the insurer.                 | Helps in cost containment analysis; difference from claim amount reflects denials/adjustments.  | `5533.25`     |\n",
    "| **claim\\_status**    | Final status of claim (e.g., Approved, Denied, Pending).          | Crucial for workflow reporting and identifying bottlenecks or appeal opportunities.             | `Approved`    |\n",
    "| **adjudicator\\_id**  | ID of the staff/system who reviewed the claim.                    | Enables productivity tracking, quality assurance, and accountability.                           | `A75`         |\n",
    "| **denial\\_reason**   | Reason for denial (null if approved).                             | Supports root cause analysis and denial prevention strategies.                                  | `Not Covered` |\n",
    "| **policy\\_id**       | ID of the policy under which the claim was filed.                 | Used to assess policy usage, eligibility, and claims behavior.                                  | `POL8961`     |\n",
    "| **icd\\_code**        | Diagnosis code (ICD-10/ICD-9).                                    | Provides clinical justification for the claim; essential for audit and care quality insights.   | `A00`, `E04`  |\n",
    "| **cpt\\_code**        | Procedure code for medical services (CPT/HCPCS).                  | Describes what procedure was done; used in pricing, eligibility checks, and trend analysis.     | `99203.0`     |\n",
    "| **ada\\_code**        | Dental procedure code (used when claim\\_type is Dental).          | Specific to dental services; allows for cost, frequency, and coverage analytics in dental care. | `D7210`       |\n",
    "| **is\\_compliant**    | Boolean flag indicating whether the claim meets compliance rules. | Ensures regulatory and policy adherence; used in audit, fraud detection, and risk reporting.    | `True/False`  |\n",
    "| **city**             | Geographic location where service was provided.                   | Enables regional cost benchmarking, provider mapping, and demographic analysis.                 | `Makkah`      |\n",
    "\n"
   ]
  },
  {
   "cell_type": "code",
   "execution_count": 364,
   "id": "19f23572",
   "metadata": {},
   "outputs": [
    {
     "data": {
      "text/plain": [
       "np.int64(0)"
      ]
     },
     "execution_count": 364,
     "metadata": {},
     "output_type": "execute_result"
    }
   ],
   "source": [
    "data.duplicated().sum()"
   ]
  },
  {
   "cell_type": "code",
   "execution_count": 365,
   "id": "ceaae826",
   "metadata": {},
   "outputs": [
    {
     "data": {
      "text/plain": [
       "claim_id               0\n",
       "member_id              0\n",
       "provider_id            0\n",
       "claim_type             0\n",
       "service_date           0\n",
       "submission_date        0\n",
       "decision_date          0\n",
       "claim_amount           0\n",
       "approved_amount        0\n",
       "claim_status           0\n",
       "adjudicator_id         0\n",
       "denial_reason      39962\n",
       "policy_id              0\n",
       "icd_code           25060\n",
       "cpt_code           25060\n",
       "ada_code           24940\n",
       "is_compliant           0\n",
       "city                   0\n",
       "dtype: int64"
      ]
     },
     "execution_count": 365,
     "metadata": {},
     "output_type": "execute_result"
    }
   ],
   "source": [
    "data.isnull().sum()"
   ]
  },
  {
   "cell_type": "code",
   "execution_count": 366,
   "id": "8f5e9956",
   "metadata": {},
   "outputs": [],
   "source": [
    "data['service_date'] = pd.to_datetime(data['service_date'])\n",
    "data['submission_date'] = pd.to_datetime(data['submission_date'])\n",
    "data['decision_date'] = pd.to_datetime(data['decision_date'])"
   ]
  },
  {
   "cell_type": "code",
   "execution_count": 367,
   "id": "aa110bef",
   "metadata": {},
   "outputs": [
    {
     "data": {
      "text/plain": [
       "Series([], Name: member_id, dtype: object)"
      ]
     },
     "execution_count": 367,
     "metadata": {},
     "output_type": "execute_result"
    }
   ],
   "source": [
    "invalid_member_ids = data[~data['member_id'].str.match(r'^M\\d{4}$', na=False)]['member_id']\n",
    "invalid_member_ids"
   ]
  },
  {
   "cell_type": "code",
   "execution_count": 368,
   "id": "c1a1c386",
   "metadata": {},
   "outputs": [
    {
     "data": {
      "text/plain": [
       "Series([], Name: provider_id, dtype: object)"
      ]
     },
     "execution_count": 368,
     "metadata": {},
     "output_type": "execute_result"
    }
   ],
   "source": [
    "invalid_provider_id = data[~data['provider_id'].str.match(r'^P\\d{3}$', na=False)]['provider_id']\n",
    "invalid_provider_id"
   ]
  },
  {
   "cell_type": "code",
   "execution_count": 369,
   "id": "6ecd5e9c",
   "metadata": {},
   "outputs": [
    {
     "data": {
      "text/plain": [
       "array(['Dental', 'Medical'], dtype=object)"
      ]
     },
     "execution_count": 369,
     "metadata": {},
     "output_type": "execute_result"
    }
   ],
   "source": [
    "data['claim_type'].unique()"
   ]
  },
  {
   "cell_type": "code",
   "execution_count": 370,
   "id": "5745e40e",
   "metadata": {},
   "outputs": [
    {
     "name": "stdout",
     "output_type": "stream",
     "text": [
      "min    2023-06-06\n",
      "max    2025-07-04\n",
      "Name: decision_date, dtype: object\n",
      "min    2022-06-05\n",
      "max    2025-05-31\n",
      "Name: service_date, dtype: object\n",
      "min    2023-06-05\n",
      "max    2025-06-04\n",
      "Name: submission_date, dtype: object\n"
     ]
    }
   ],
   "source": [
    "data['decision_date'].agg(['min', 'max']).dt.date\n",
    "data['service_date'].agg(['min', 'max']).dt.date\n",
    "data['submission_date'].agg(['min', 'max']).dt.date\n",
    "\n",
    "print(data['decision_date'].agg(['min', 'max']).dt.date)\n",
    "print(data['service_date'].agg(['min', 'max']).dt.date)\n",
    "print(data['submission_date'].agg(['min', 'max']).dt.date)"
   ]
  },
  {
   "cell_type": "code",
   "execution_count": 371,
   "id": "666aed80",
   "metadata": {},
   "outputs": [
    {
     "name": "stdout",
     "output_type": "stream",
     "text": [
      "Invalid decision_date: Series([], Name: decision_date, dtype: datetime64[ns])\n",
      "Invalid service_date: Series([], Name: service_date, dtype: datetime64[ns])\n",
      "Invalid submission_date: Series([], Name: submission_date, dtype: datetime64[ns])\n"
     ]
    }
   ],
   "source": [
    "# Define a regex pattern for valid dates (basic check)\n",
    "date_pattern = r'^\\d{4}-\\d{2}-\\d{2}$'\n",
    "\n",
    "# Check for invalid decision_date\n",
    "invalid_decision_date = data[~data['decision_date'].astype(str).str.match(date_pattern, na=False)]['decision_date']\n",
    "\n",
    "# Check for invalid service_date\n",
    "invalid_service_date = data[~data['service_date'].astype(str).str.match(date_pattern, na=False)]['service_date']\n",
    "\n",
    "# Check for invalid submission_date\n",
    "invalid_submission_date = data[~data['submission_date'].astype(str).str.match(date_pattern, na=False)]['submission_date']\n",
    "\n",
    "\n",
    "# Print the results\n",
    "print(\"Invalid decision_date:\", invalid_decision_date)\n",
    "print(\"Invalid service_date:\", invalid_service_date)\n",
    "print(\"Invalid submission_date:\", invalid_submission_date)"
   ]
  },
  {
   "cell_type": "code",
   "execution_count": 372,
   "id": "58bdf753",
   "metadata": {},
   "outputs": [
    {
     "data": {
      "text/plain": [
       "array(['Approved', 'Pending', 'Denied'], dtype=object)"
      ]
     },
     "execution_count": 372,
     "metadata": {},
     "output_type": "execute_result"
    }
   ],
   "source": [
    "data['claim_status'].unique()"
   ]
  },
  {
   "cell_type": "code",
   "execution_count": 373,
   "id": "48f55a15",
   "metadata": {},
   "outputs": [
    {
     "data": {
      "text/plain": [
       "Series([], Name: adjudicator_id, dtype: object)"
      ]
     },
     "execution_count": 373,
     "metadata": {},
     "output_type": "execute_result"
    }
   ],
   "source": [
    "invalid_adjudicator_id = data[~data['adjudicator_id'].str.match(r'^A\\d{2}$', na=False)]['adjudicator_id']\n",
    "invalid_adjudicator_id"
   ]
  },
  {
   "cell_type": "code",
   "execution_count": 374,
   "id": "2fb77c31",
   "metadata": {},
   "outputs": [
    {
     "data": {
      "text/plain": [
       "array([nan, 'Not Covered', 'Incomplete Info', 'Over Limit',\n",
       "       'Invalid Code'], dtype=object)"
      ]
     },
     "execution_count": 374,
     "metadata": {},
     "output_type": "execute_result"
    }
   ],
   "source": [
    "data['denial_reason'].unique()"
   ]
  },
  {
   "cell_type": "code",
   "execution_count": 375,
   "id": "e06c1d60",
   "metadata": {},
   "outputs": [
    {
     "data": {
      "text/plain": [
       "Series([], Name: policy_id, dtype: object)"
      ]
     },
     "execution_count": 375,
     "metadata": {},
     "output_type": "execute_result"
    }
   ],
   "source": [
    "invalid_policy_id = data[~data['policy_id'].str.match(r'^POL\\d{4}$', na=False)]['policy_id']\n",
    "invalid_policy_id"
   ]
  },
  {
   "cell_type": "code",
   "execution_count": 376,
   "id": "0958bdfc",
   "metadata": {},
   "outputs": [
    {
     "data": {
      "text/plain": [
       "array([nan, 'E04', 'A00', 'D03', 'B01', 'C02'], dtype=object)"
      ]
     },
     "execution_count": 376,
     "metadata": {},
     "output_type": "execute_result"
    }
   ],
   "source": [
    "data['icd_code'].unique()"
   ]
  },
  {
   "cell_type": "markdown",
   "id": "03739b8f",
   "metadata": {},
   "source": [
    "| **ICD Code** | **Diagnosis Name**                             | **Category**                    | **Description**                                                                       |\n",
    "| ------------ | ---------------------------------------------- | ------------------------------- | ------------------------------------------------------------------------------------- |\n",
    "| **E04**      | Other nontoxic goiter                          | Endocrine Disorders             | Includes diffuse, multinodular, or unspecified goiters not caused by iodine toxicity. |\n",
    "| **A00**      | Cholera                                        | Infectious & Parasitic Diseases | Acute diarrheal disease caused by *Vibrio cholerae*, often linked to poor sanitation. |\n",
    "| **D03**      | Melanoma in situ                               | Neoplasms                       | Early-stage skin cancer confined to the outer layer of skin (epidermis).              |\n",
    "| **B01**      | Varicella (chickenpox)                         | Infectious & Parasitic Diseases | Highly contagious viral infection characterized by itchy rash and fever.              |\n",
    "| **C02**      | Malignant neoplasm of other/unspecified tongue | Neoplasms                       | Cancer affecting parts of the tongue not otherwise classified.                        |\n"
   ]
  },
  {
   "cell_type": "code",
   "execution_count": 377,
   "id": "401400df",
   "metadata": {},
   "outputs": [
    {
     "data": {
      "text/plain": [
       "icd_code\n",
       "E04    5032\n",
       "A00    5020\n",
       "B01    4969\n",
       "D03    4961\n",
       "C02    4958\n",
       "Name: count, dtype: int64"
      ]
     },
     "execution_count": 377,
     "metadata": {},
     "output_type": "execute_result"
    }
   ],
   "source": [
    "data['icd_code'].value_counts()"
   ]
  },
  {
   "cell_type": "code",
   "execution_count": 378,
   "id": "443a46bc",
   "metadata": {},
   "outputs": [
    {
     "data": {
      "text/plain": [
       "city    icd_code\n",
       "Dammam  A00         1029\n",
       "        C02         1022\n",
       "        D03         1018\n",
       "        E04          997\n",
       "        B01          988\n",
       "Jeddah  E04         1045\n",
       "        A00         1012\n",
       "        C02          960\n",
       "        D03          959\n",
       "        B01          934\n",
       "Makkah  B01         1023\n",
       "        D03         1019\n",
       "        A00         1016\n",
       "        C02          998\n",
       "        E04          963\n",
       "Medina  E04         1011\n",
       "        A00         1006\n",
       "        B01          996\n",
       "        D03          993\n",
       "        C02          988\n",
       "Riyadh  B01         1028\n",
       "        E04         1016\n",
       "        C02          990\n",
       "        D03          972\n",
       "        A00          957\n",
       "Name: count, dtype: int64"
      ]
     },
     "execution_count": 378,
     "metadata": {},
     "output_type": "execute_result"
    }
   ],
   "source": [
    "data.groupby('city')['icd_code'].value_counts()"
   ]
  },
  {
   "cell_type": "markdown",
   "id": "b35a4d3c",
   "metadata": {},
   "source": [
    "### 🔍 Observations:\n",
    "\n",
    "* **A00 (Cholera)** is highest in **Dammam (1,029)** and **Makkah (1,016)**.\n",
    "* **B01 (Chickenpox)** is most frequent in **Riyadh (1,028)** and **Makkah (1,023)**.\n",
    "* **E04 (Nontoxic Goiter)** peaks in **Jeddah (1,045)** and **Riyadh (1,016)**.\n",
    "* **C02 (Malignant tongue neoplasm)** is evenly distributed across cities (\\~960–1022).\n",
    "* **D03 (Melanoma in situ)** is also well distributed with **Dammam (1,018)** and **Makkah (1,019)** leading.\n"
   ]
  },
  {
   "cell_type": "code",
   "execution_count": 379,
   "id": "922f61c5",
   "metadata": {},
   "outputs": [
    {
     "data": {
      "text/plain": [
       "city    icd_code\n",
       "Dammam  B01         109\n",
       "        E04         106\n",
       "        C02          99\n",
       "        D03          95\n",
       "        A00          93\n",
       "Jeddah  D03         103\n",
       "        E04         103\n",
       "        A00         100\n",
       "        C02          98\n",
       "        B01          90\n",
       "Makkah  B01         116\n",
       "        A00         112\n",
       "        C02         105\n",
       "        D03         100\n",
       "        E04          91\n",
       "Medina  B01         105\n",
       "        A00         104\n",
       "        D03         100\n",
       "        C02          96\n",
       "        E04          92\n",
       "Riyadh  D03         117\n",
       "        B01         116\n",
       "        C02          94\n",
       "        A00          92\n",
       "        E04          82\n",
       "Name: count, dtype: int64"
      ]
     },
     "execution_count": 379,
     "metadata": {},
     "output_type": "execute_result"
    }
   ],
   "source": [
    "data[data['claim_status'] == 'Denied'].groupby('city')['icd_code'].value_counts()"
   ]
  },
  {
   "cell_type": "markdown",
   "id": "7db0f9a5",
   "metadata": {},
   "source": [
    "### 🧠 Insights:\n",
    "\n",
    "* **Chickenpox (B01)** had the highest number of denied claims in **Makkah** and **Riyadh** (116 each).\n",
    "* **Melanoma in situ (D03)** saw the most denials in **Riyadh** (117), followed by **Jeddah** and **Medina** (100+).\n",
    "* **Cholera (A00)** was heavily denied in **Makkah (112)** and **Medina (104)**.\n",
    "* **Goiter (E04)** denials are relatively lower across all cities, with **Dammam** and **Jeddah** leading.\n",
    "\n"
   ]
  },
  {
   "cell_type": "code",
   "execution_count": 380,
   "id": "f631fd3b",
   "metadata": {},
   "outputs": [
    {
     "data": {
      "text/plain": [
       "city    icd_code\n",
       "Dammam  E04         108\n",
       "        B01          97\n",
       "        C02          90\n",
       "        A00          89\n",
       "        D03          87\n",
       "Jeddah  A00         107\n",
       "        E04         100\n",
       "        C02          97\n",
       "        D03          90\n",
       "        B01          86\n",
       "Makkah  E04         117\n",
       "        B01         113\n",
       "        D03         113\n",
       "        C02          94\n",
       "        A00          92\n",
       "Medina  E04         113\n",
       "        C02         106\n",
       "        A00          97\n",
       "        D03          96\n",
       "        B01          85\n",
       "Riyadh  C02         109\n",
       "        D03         106\n",
       "        E04         106\n",
       "        B01         105\n",
       "        A00          84\n",
       "Name: count, dtype: int64"
      ]
     },
     "execution_count": 380,
     "metadata": {},
     "output_type": "execute_result"
    }
   ],
   "source": [
    "data[data['claim_status'] == 'Pending'].groupby('city')['icd_code'].value_counts()"
   ]
  },
  {
   "cell_type": "markdown",
   "id": "8e9b6ceb",
   "metadata": {},
   "source": [
    "### 🧠 Key Takeaways:\n",
    "\n",
    "* **Goiter (E04)** is frequently *pending* in **Makkah (117)** and **Medina (113)** — could be due to coding or documentation delays.\n",
    "* **Chickenpox (B01)** has many pending claims in **Makkah (113)** and **Riyadh (105)**.\n",
    "* **Melanoma in situ (D03)** is high across most cities — notably **Makkah** and **Riyadh** (113 and 106).\n",
    "* **Cholera (A00)** and **Tongue Cancer (C02)** are also showing significant pending volumes, especially in **Jeddah** and **Riyadh**.\n"
   ]
  },
  {
   "cell_type": "code",
   "execution_count": 381,
   "id": "2dd10497",
   "metadata": {},
   "outputs": [
    {
     "data": {
      "text/plain": [
       "array([   nan, 99203., 99202., 99201., 99205., 99204.])"
      ]
     },
     "execution_count": 381,
     "metadata": {},
     "output_type": "execute_result"
    }
   ],
   "source": [
    "data['cpt_code'].unique()"
   ]
  },
  {
   "cell_type": "markdown",
   "id": "c6b84cfd",
   "metadata": {},
   "source": [
    "| **CPT Code** | **Procedure Name**                                          |\n",
    "| ------------ | ----------------------------------------------------------- |\n",
    "| **99201**    | Office/outpatient visit, new patient – typically 10 minutes |\n",
    "| **99202**    | Office/outpatient visit, new patient – typically 20 minutes |\n",
    "| **99203**    | Office/outpatient visit, new patient – typically 30 minutes |\n",
    "| **99204**    | Office/outpatient visit, new patient – typically 45 minutes |\n",
    "| **99205**    | Office/outpatient visit, new patient – typically 60 minutes |\n"
   ]
  },
  {
   "cell_type": "code",
   "execution_count": 382,
   "id": "21ce98cf",
   "metadata": {},
   "outputs": [
    {
     "data": {
      "text/plain": [
       "cpt_code\n",
       "99202.0    5068\n",
       "99205.0    5005\n",
       "99204.0    5002\n",
       "99203.0    4969\n",
       "99201.0    4896\n",
       "Name: count, dtype: int64"
      ]
     },
     "execution_count": 382,
     "metadata": {},
     "output_type": "execute_result"
    }
   ],
   "source": [
    "data['cpt_code'].value_counts()"
   ]
  },
  {
   "cell_type": "code",
   "execution_count": 383,
   "id": "474348bb",
   "metadata": {},
   "outputs": [
    {
     "data": {
      "text/plain": [
       "city    cpt_code\n",
       "Dammam  99203.0     1048\n",
       "        99205.0     1015\n",
       "        99201.0     1008\n",
       "        99204.0     1006\n",
       "        99202.0      977\n",
       "Jeddah  99202.0     1025\n",
       "        99204.0      986\n",
       "        99205.0      983\n",
       "        99201.0      963\n",
       "        99203.0      953\n",
       "Makkah  99202.0     1057\n",
       "        99203.0     1031\n",
       "        99205.0      995\n",
       "        99204.0      976\n",
       "        99201.0      960\n",
       "Medina  99202.0     1031\n",
       "        99205.0     1027\n",
       "        99204.0      989\n",
       "        99203.0      975\n",
       "        99201.0      972\n",
       "Riyadh  99204.0     1045\n",
       "        99201.0      993\n",
       "        99205.0      985\n",
       "        99202.0      978\n",
       "        99203.0      962\n",
       "Name: count, dtype: int64"
      ]
     },
     "execution_count": 383,
     "metadata": {},
     "output_type": "execute_result"
    }
   ],
   "source": [
    "data.groupby('city')['cpt_code'].value_counts()"
   ]
  },
  {
   "cell_type": "code",
   "execution_count": 384,
   "id": "7343340b",
   "metadata": {},
   "outputs": [
    {
     "data": {
      "text/plain": [
       "array(['D7210', 'D1110', 'D2740', nan, 'D9944', 'D0120'], dtype=object)"
      ]
     },
     "execution_count": 384,
     "metadata": {},
     "output_type": "execute_result"
    }
   ],
   "source": [
    "data['ada_code'].unique()"
   ]
  },
  {
   "cell_type": "markdown",
   "id": "21a36cf4",
   "metadata": {},
   "source": [
    "| **ADA Code** | **Procedure Name**                                   |\n",
    "| ------------ | ---------------------------------------------------- |\n",
    "| **D0120**    | Periodic oral evaluation – established patient       |\n",
    "| **D1110**    | Prophylaxis – adult (professional teeth cleaning)    |\n",
    "| **D2740**    | Crown – porcelain/ceramic substrate                  |\n",
    "| **D7210**    | Surgical removal of erupted tooth with complications |\n",
    "| **D9944**    | Occlusal guard – hard appliance, full arch           |\n",
    "| **NaN**      | *(Missing/Not provided)*                             |\n"
   ]
  },
  {
   "cell_type": "code",
   "execution_count": 385,
   "id": "655ecfe5",
   "metadata": {},
   "outputs": [
    {
     "data": {
      "text/plain": [
       "ada_code\n",
       "D1110    5110\n",
       "D0120    5037\n",
       "D2740    5013\n",
       "D7210    4959\n",
       "D9944    4941\n",
       "Name: count, dtype: int64"
      ]
     },
     "execution_count": 385,
     "metadata": {},
     "output_type": "execute_result"
    }
   ],
   "source": [
    "data['ada_code'].value_counts()"
   ]
  },
  {
   "cell_type": "code",
   "execution_count": 386,
   "id": "c6179b1e",
   "metadata": {},
   "outputs": [
    {
     "data": {
      "text/plain": [
       "city    ada_code\n",
       "Dammam  D0120       1044\n",
       "        D1110       1015\n",
       "        D7210       1000\n",
       "        D9944        990\n",
       "        D2740        983\n",
       "Jeddah  D2740       1022\n",
       "        D7210       1021\n",
       "        D1110       1006\n",
       "        D0120        978\n",
       "        D9944        978\n",
       "Makkah  D1110       1041\n",
       "        D0120        989\n",
       "        D7210        985\n",
       "        D9944        962\n",
       "        D2740        941\n",
       "Medina  D9944       1043\n",
       "        D1110       1035\n",
       "        D0120       1013\n",
       "        D2740        994\n",
       "        D7210        951\n",
       "Riyadh  D2740       1073\n",
       "        D0120       1013\n",
       "        D1110       1013\n",
       "        D7210       1002\n",
       "        D9944        968\n",
       "Name: count, dtype: int64"
      ]
     },
     "execution_count": 386,
     "metadata": {},
     "output_type": "execute_result"
    }
   ],
   "source": [
    "data.groupby('city')['ada_code'].value_counts()"
   ]
  },
  {
   "cell_type": "code",
   "execution_count": 387,
   "id": "f2e78f26",
   "metadata": {},
   "outputs": [
    {
     "data": {
      "text/plain": [
       "array([False,  True])"
      ]
     },
     "execution_count": 387,
     "metadata": {},
     "output_type": "execute_result"
    }
   ],
   "source": [
    "data['is_compliant'].unique()"
   ]
  },
  {
   "cell_type": "code",
   "execution_count": 388,
   "id": "78291baf",
   "metadata": {},
   "outputs": [
    {
     "data": {
      "text/plain": [
       "array(['Makkah', 'Medina', 'Jeddah', 'Riyadh', 'Dammam'], dtype=object)"
      ]
     },
     "execution_count": 388,
     "metadata": {},
     "output_type": "execute_result"
    }
   ],
   "source": [
    "data['city'].unique()"
   ]
  },
  {
   "cell_type": "code",
   "execution_count": 389,
   "id": "76c878b0",
   "metadata": {},
   "outputs": [
    {
     "name": "stdout",
     "output_type": "stream",
     "text": [
      "39962\n"
     ]
    }
   ],
   "source": [
    "# Count of approved claims where denial_reason is null (NaN)\n",
    "approved_no_denial = data[(data['claim_status'] == 'Approved') & (data['denial_reason'].isnull())]\n",
    "approved_no_denial_count = approved_no_denial.shape[0]\n",
    "print(approved_no_denial_count) "
   ]
  },
  {
   "cell_type": "code",
   "execution_count": 390,
   "id": "fe4e09cf",
   "metadata": {},
   "outputs": [
    {
     "name": "stdout",
     "output_type": "stream",
     "text": [
      "0\n"
     ]
    }
   ],
   "source": [
    "# Count of approved claims where denial_reason is null (NaN)\n",
    "dental_claims_rf = data[(data['claim_type'] == 'Dental') & (data['ada_code'].isnull())]\n",
    "dental_claims_rf_count = dental_claims_rf.shape[0]\n",
    "print(dental_claims_rf_count) "
   ]
  },
  {
   "cell_type": "code",
   "execution_count": 391,
   "id": "e711347a",
   "metadata": {},
   "outputs": [
    {
     "name": "stdout",
     "output_type": "stream",
     "text": [
      "0\n"
     ]
    }
   ],
   "source": [
    "# Count of approved claims where denial_reason is null (NaN)\n",
    "medical_claims_rf = data[(data['claim_type'] == 'Medical') & (data['icd_code'].isnull() & data['cpt_code'].isnull())]\n",
    "medical_claims_rf_count = medical_claims_rf.shape[0]\n",
    "print(medical_claims_rf_count) "
   ]
  },
  {
   "cell_type": "code",
   "execution_count": 392,
   "id": "a8c01a92",
   "metadata": {},
   "outputs": [
    {
     "data": {
      "text/plain": [
       "city\n",
       "Dammam    513\n",
       "Jeddah    480\n",
       "Makkah    546\n",
       "Medina    523\n",
       "Riyadh    521\n",
       "dtype: int64"
      ]
     },
     "execution_count": 392,
     "metadata": {},
     "output_type": "execute_result"
    }
   ],
   "source": [
    "data[(data['claim_status']=='Denied') & (data['is_compliant']==True)].groupby('city').size()"
   ]
  },
  {
   "cell_type": "code",
   "execution_count": 393,
   "id": "8ae6078e",
   "metadata": {},
   "outputs": [
    {
     "data": {
      "text/plain": [
       "np.float64(5673309.819999999)"
      ]
     },
     "execution_count": 393,
     "metadata": {},
     "output_type": "execute_result"
    }
   ],
   "source": [
    "Denied_not_compliant = data[(data['claim_status']=='Denied') & (data['is_compliant']==False)]\n",
    "\n",
    "Denied_not_compliant['approved_amount'].sum()\n"
   ]
  },
  {
   "cell_type": "code",
   "execution_count": 394,
   "id": "afd315a7",
   "metadata": {},
   "outputs": [
    {
     "data": {
      "text/plain": [
       "city\n",
       "Dammam    1127085.33\n",
       "Jeddah    1117529.72\n",
       "Makkah    1193230.91\n",
       "Medina    1077450.48\n",
       "Riyadh    1158013.38\n",
       "Name: approved_amount, dtype: float64"
      ]
     },
     "execution_count": 394,
     "metadata": {},
     "output_type": "execute_result"
    }
   ],
   "source": [
    "Denied_not_compliant.groupby('city')['approved_amount'].sum()"
   ]
  },
  {
   "cell_type": "code",
   "execution_count": 395,
   "id": "ff34582a",
   "metadata": {},
   "outputs": [
    {
     "data": {
      "text/plain": [
       "adjudicator_id\n",
       "A32    92200.49\n",
       "A96    90368.71\n",
       "A36    89465.61\n",
       "A67    88759.17\n",
       "A99    85171.43\n",
       "         ...   \n",
       "A86    39100.84\n",
       "A15    38597.81\n",
       "A91    37305.86\n",
       "A61    35397.05\n",
       "A22    34551.42\n",
       "Name: approved_amount, Length: 90, dtype: float64"
      ]
     },
     "execution_count": 395,
     "metadata": {},
     "output_type": "execute_result"
    }
   ],
   "source": [
    "Denied_not_compliant.groupby('adjudicator_id')['approved_amount'].sum().sort_values(ascending=False)"
   ]
  },
  {
   "cell_type": "code",
   "execution_count": 396,
   "id": "8ce01be5",
   "metadata": {},
   "outputs": [
    {
     "data": {
      "text/plain": [
       "city\n",
       "Dammam    4078\n",
       "Jeddah    3938\n",
       "Makkah    3909\n",
       "Medina    3989\n",
       "Riyadh    3984\n",
       "dtype: int64"
      ]
     },
     "execution_count": 396,
     "metadata": {},
     "output_type": "execute_result"
    }
   ],
   "source": [
    "data[(data['claim_status']=='Approved') & (data['is_compliant']==False)].groupby('city').size()"
   ]
  },
  {
   "cell_type": "code",
   "execution_count": 397,
   "id": "295c950e",
   "metadata": {},
   "outputs": [
    {
     "data": {
      "text/plain": [
       "np.float64(99659012.47)"
      ]
     },
     "execution_count": 397,
     "metadata": {},
     "output_type": "execute_result"
    }
   ],
   "source": [
    "approved_not_compliant = data[(data['claim_status']=='Approved') & (data['is_compliant']==False)]\n",
    "\n",
    "approved_not_compliant['approved_amount'].sum()\n"
   ]
  },
  {
   "cell_type": "code",
   "execution_count": 398,
   "id": "3630552d",
   "metadata": {},
   "outputs": [
    {
     "data": {
      "text/plain": [
       "city\n",
       "Dammam    513\n",
       "Jeddah    480\n",
       "Makkah    546\n",
       "Medina    523\n",
       "Riyadh    521\n",
       "dtype: int64"
      ]
     },
     "execution_count": 398,
     "metadata": {},
     "output_type": "execute_result"
    }
   ],
   "source": [
    "data[(data['claim_status']=='Denied')& (data['is_compliant']==True)].groupby('city').size()"
   ]
  },
  {
   "cell_type": "code",
   "execution_count": 399,
   "id": "c6a5d01e",
   "metadata": {},
   "outputs": [
    {
     "data": {
      "text/plain": [
       "city\n",
       "Dammam    20397955.35\n",
       "Jeddah    19788007.97\n",
       "Makkah    19708946.94\n",
       "Medina    19952480.28\n",
       "Riyadh    19811621.93\n",
       "Name: approved_amount, dtype: float64"
      ]
     },
     "execution_count": 399,
     "metadata": {},
     "output_type": "execute_result"
    }
   ],
   "source": [
    "approved_not_compliant.groupby('city')['approved_amount'].sum()"
   ]
  },
  {
   "cell_type": "code",
   "execution_count": 400,
   "id": "98342450",
   "metadata": {},
   "outputs": [
    {
     "data": {
      "text/plain": [
       "adjudicator_id\n",
       "A81    1336078.18\n",
       "A32    1334364.61\n",
       "A59    1283201.92\n",
       "A19    1244044.10\n",
       "A26    1241593.54\n",
       "          ...    \n",
       "A82     940092.19\n",
       "A41     933279.14\n",
       "A10     906470.21\n",
       "A37     905453.51\n",
       "A76     900033.68\n",
       "Name: approved_amount, Length: 90, dtype: float64"
      ]
     },
     "execution_count": 400,
     "metadata": {},
     "output_type": "execute_result"
    }
   ],
   "source": [
    "approved_not_compliant.groupby('adjudicator_id')['approved_amount'].sum().sort_values(ascending=False)"
   ]
  },
  {
   "cell_type": "code",
   "execution_count": 401,
   "id": "55f42cd4",
   "metadata": {},
   "outputs": [
    {
     "name": "stdout",
     "output_type": "stream",
     "text": [
      "% of Approved but Not Compliant (of total approved amount): 49.53%\n",
      "% of Denied but Compliant (of total approved amount): 2.93%\n"
     ]
    }
   ],
   "source": [
    "# % of approved but not compliant from total approved amount\n",
    "approved_not_compliant_amt = data[(data['claim_status'] == 'Approved') & (data['is_compliant'] == False)]['approved_amount'].sum()\n",
    "total_approved_amt = data[data['claim_status'] == 'Approved']['approved_amount'].sum()\n",
    "pct_approved_not_compliant = (approved_not_compliant_amt / total_approved_amt) * 100 if total_approved_amt else 0\n",
    "\n",
    "# % of denied but compliant from total approved amount\n",
    "denied_compliant_amt = data[(data['claim_status'] == 'Denied') & (data['is_compliant'] == True)]['approved_amount'].sum()\n",
    "pct_denied_compliant = (denied_compliant_amt / total_approved_amt) * 100 if total_approved_amt else 0\n",
    "\n",
    "print(f\"% of Approved but Not Compliant (of total approved amount): {pct_approved_not_compliant:.2f}%\")\n",
    "print(f\"% of Denied but Compliant (of total approved amount): {pct_denied_compliant:.2f}%\")"
   ]
  },
  {
   "cell_type": "code",
   "execution_count": 402,
   "id": "2ca02bde",
   "metadata": {},
   "outputs": [],
   "source": [
    "# Claim Submission Lag: days from service to submission\n",
    "data['submission_lag'] = (data['submission_date'] - data['service_date']).dt.days\n",
    "\n",
    "# Claim Processing Time: days from submission to decision\n",
    "data['processing_time'] = (data['decision_date'] - data['submission_date']).dt.days\n",
    "\n",
    "# Total Claim Cycle Time: service to final decision\n",
    "data['total_cycle_time'] = (data['decision_date'] - data['service_date']).dt.days\n",
    "\n",
    "# Percentage of claims submitted late\n",
    "data['%_Claims_Submitted_Late'] = ((data['submission_lag'] > 45 )*100).astype(int)\n",
    "\n",
    "# Percentage of claims submitted late\n",
    "data['%_Claims_Processed_Late'] = ((data['processing_time'] > 45)*100).astype(int)"
   ]
  },
  {
   "cell_type": "markdown",
   "id": "83af1c06",
   "metadata": {},
   "source": [
    "| **Metric Name**             | **Formula / Calculation**         | **Business Meaning**                                                                                  |\n",
    "| --------------------------- | --------------------------------- | ----------------------------------------------------------------------------------------------------- |\n",
    "| **Claim Submission Lag**    | `submission_date - service_date`  | Measures how long providers take to submit claims. High lag may indicate inefficiencies or delays.    |\n",
    "| **Claim Processing Time**   | `decision_date - submission_date` | Measures internal insurer efficiency. Long durations may reflect resource issues or complex reviews.  |\n",
    "| **Total Claim Cycle Time**  | `decision_date - service_date`    | End-to-end timeline from patient service to final decision. Reflects the overall customer experience. |\n",
    "| **% Claims Submitted Late** | `Claim Submission Lag > X days`   | Monitors compliance with submission SLAs (e.g., 5 days).                                              |\n",
    "| **% Claims Processed Late** | `Claim Processing Time > Y days`  | Indicates delays in the insurer's claim adjudication process (e.g., above 10 days).                   |\n"
   ]
  },
  {
   "cell_type": "code",
   "execution_count": 403,
   "id": "097eab3b",
   "metadata": {},
   "outputs": [
    {
     "name": "stdout",
     "output_type": "stream",
     "text": [
      " Claims with submission before service: 0\n"
     ]
    }
   ],
   "source": [
    "# Check if some submission dates are before service dates (invalid)\n",
    "invalid_rows = data[data['submission_lag'] < 0]\n",
    "print(f\" Claims with submission before service: {len(invalid_rows)}\")\n"
   ]
  },
  {
   "cell_type": "code",
   "execution_count": 404,
   "id": "abf1ce13",
   "metadata": {},
   "outputs": [
    {
     "name": "stdout",
     "output_type": "stream",
     "text": [
      "Claims with Process before service: 0\n"
     ]
    }
   ],
   "source": [
    "# Check if some processing dates are before submission dates (invalid)\n",
    "invalid_rows = data[data['processing_time'] < 0]\n",
    "print(f\"Claims with Process before service: {len(invalid_rows)}\")\n"
   ]
  },
  {
   "cell_type": "code",
   "execution_count": 430,
   "id": "5854c07b",
   "metadata": {},
   "outputs": [
    {
     "name": "stdout",
     "output_type": "stream",
     "text": [
      "% of Claims Submitted Late (>45 days): 93.25%\n",
      "% of Claims Processed Late (>45 days): 0.00%\n"
     ]
    }
   ],
   "source": [
    "# Calculate actual percentages\n",
    "percent_late_submission = data['%_Claims_Submitted_Late'].mean() \n",
    "percent_late_processing = data['%_Claims_Processed_Late'].mean() \n",
    "\n",
    "# Print results\n",
    "print(f\"% of Claims Submitted Late (>45 days): {percent_late_submission:.2f}%\")\n",
    "print(f\"% of Claims Processed Late (>45 days): {percent_late_processing:.2f}%\")\n"
   ]
  },
  {
   "cell_type": "code",
   "execution_count": 406,
   "id": "8d722c55",
   "metadata": {},
   "outputs": [
    {
     "data": {
      "text/html": [
       "<div>\n",
       "<style scoped>\n",
       "    .dataframe tbody tr th:only-of-type {\n",
       "        vertical-align: middle;\n",
       "    }\n",
       "\n",
       "    .dataframe tbody tr th {\n",
       "        vertical-align: top;\n",
       "    }\n",
       "\n",
       "    .dataframe thead th {\n",
       "        text-align: right;\n",
       "    }\n",
       "</style>\n",
       "<table border=\"1\" class=\"dataframe\">\n",
       "  <thead>\n",
       "    <tr style=\"text-align: right;\">\n",
       "      <th></th>\n",
       "      <th>claim_id</th>\n",
       "      <th>member_id</th>\n",
       "      <th>provider_id</th>\n",
       "      <th>claim_type</th>\n",
       "      <th>service_date</th>\n",
       "      <th>submission_date</th>\n",
       "      <th>decision_date</th>\n",
       "      <th>claim_amount</th>\n",
       "      <th>approved_amount</th>\n",
       "      <th>claim_status</th>\n",
       "      <th>...</th>\n",
       "      <th>icd_code</th>\n",
       "      <th>cpt_code</th>\n",
       "      <th>ada_code</th>\n",
       "      <th>is_compliant</th>\n",
       "      <th>city</th>\n",
       "      <th>submission_lag</th>\n",
       "      <th>processing_time</th>\n",
       "      <th>total_cycle_time</th>\n",
       "      <th>%_Claims_Submitted_Late</th>\n",
       "      <th>%_Claims_Processed_Late</th>\n",
       "    </tr>\n",
       "  </thead>\n",
       "  <tbody>\n",
       "    <tr>\n",
       "      <th>0</th>\n",
       "      <td>C000000</td>\n",
       "      <td>M1663</td>\n",
       "      <td>P365</td>\n",
       "      <td>Dental</td>\n",
       "      <td>2024-01-24</td>\n",
       "      <td>2025-03-21</td>\n",
       "      <td>2025-04-04</td>\n",
       "      <td>5533.25</td>\n",
       "      <td>5533.25</td>\n",
       "      <td>Approved</td>\n",
       "      <td>...</td>\n",
       "      <td>NaN</td>\n",
       "      <td>NaN</td>\n",
       "      <td>D7210</td>\n",
       "      <td>False</td>\n",
       "      <td>Makkah</td>\n",
       "      <td>422</td>\n",
       "      <td>14</td>\n",
       "      <td>436</td>\n",
       "      <td>100</td>\n",
       "      <td>0</td>\n",
       "    </tr>\n",
       "    <tr>\n",
       "      <th>1</th>\n",
       "      <td>C000001</td>\n",
       "      <td>M4578</td>\n",
       "      <td>P616</td>\n",
       "      <td>Dental</td>\n",
       "      <td>2024-03-19</td>\n",
       "      <td>2025-01-13</td>\n",
       "      <td>2025-02-12</td>\n",
       "      <td>7180.37</td>\n",
       "      <td>7180.37</td>\n",
       "      <td>Approved</td>\n",
       "      <td>...</td>\n",
       "      <td>NaN</td>\n",
       "      <td>NaN</td>\n",
       "      <td>D1110</td>\n",
       "      <td>True</td>\n",
       "      <td>Medina</td>\n",
       "      <td>300</td>\n",
       "      <td>30</td>\n",
       "      <td>330</td>\n",
       "      <td>100</td>\n",
       "      <td>0</td>\n",
       "    </tr>\n",
       "    <tr>\n",
       "      <th>2</th>\n",
       "      <td>C000002</td>\n",
       "      <td>M3407</td>\n",
       "      <td>P417</td>\n",
       "      <td>Dental</td>\n",
       "      <td>2022-12-23</td>\n",
       "      <td>2023-07-06</td>\n",
       "      <td>2023-07-24</td>\n",
       "      <td>6067.36</td>\n",
       "      <td>6067.36</td>\n",
       "      <td>Approved</td>\n",
       "      <td>...</td>\n",
       "      <td>NaN</td>\n",
       "      <td>NaN</td>\n",
       "      <td>D2740</td>\n",
       "      <td>False</td>\n",
       "      <td>Medina</td>\n",
       "      <td>195</td>\n",
       "      <td>18</td>\n",
       "      <td>213</td>\n",
       "      <td>100</td>\n",
       "      <td>0</td>\n",
       "    </tr>\n",
       "    <tr>\n",
       "      <th>3</th>\n",
       "      <td>C000003</td>\n",
       "      <td>M4350</td>\n",
       "      <td>P665</td>\n",
       "      <td>Medical</td>\n",
       "      <td>2023-06-17</td>\n",
       "      <td>2024-07-06</td>\n",
       "      <td>2024-07-17</td>\n",
       "      <td>5494.34</td>\n",
       "      <td>5494.34</td>\n",
       "      <td>Approved</td>\n",
       "      <td>...</td>\n",
       "      <td>E04</td>\n",
       "      <td>99203.0</td>\n",
       "      <td>NaN</td>\n",
       "      <td>True</td>\n",
       "      <td>Medina</td>\n",
       "      <td>385</td>\n",
       "      <td>11</td>\n",
       "      <td>396</td>\n",
       "      <td>100</td>\n",
       "      <td>0</td>\n",
       "    </tr>\n",
       "    <tr>\n",
       "      <th>4</th>\n",
       "      <td>C000004</td>\n",
       "      <td>M9086</td>\n",
       "      <td>P947</td>\n",
       "      <td>Medical</td>\n",
       "      <td>2024-02-03</td>\n",
       "      <td>2024-04-14</td>\n",
       "      <td>2024-05-04</td>\n",
       "      <td>4294.18</td>\n",
       "      <td>3246.75</td>\n",
       "      <td>Pending</td>\n",
       "      <td>...</td>\n",
       "      <td>A00</td>\n",
       "      <td>99202.0</td>\n",
       "      <td>NaN</td>\n",
       "      <td>True</td>\n",
       "      <td>Jeddah</td>\n",
       "      <td>71</td>\n",
       "      <td>20</td>\n",
       "      <td>91</td>\n",
       "      <td>100</td>\n",
       "      <td>0</td>\n",
       "    </tr>\n",
       "  </tbody>\n",
       "</table>\n",
       "<p>5 rows × 23 columns</p>\n",
       "</div>"
      ],
      "text/plain": [
       "  claim_id member_id provider_id claim_type service_date submission_date  \\\n",
       "0  C000000     M1663        P365     Dental   2024-01-24      2025-03-21   \n",
       "1  C000001     M4578        P616     Dental   2024-03-19      2025-01-13   \n",
       "2  C000002     M3407        P417     Dental   2022-12-23      2023-07-06   \n",
       "3  C000003     M4350        P665    Medical   2023-06-17      2024-07-06   \n",
       "4  C000004     M9086        P947    Medical   2024-02-03      2024-04-14   \n",
       "\n",
       "  decision_date  claim_amount  approved_amount claim_status  ... icd_code  \\\n",
       "0    2025-04-04       5533.25          5533.25     Approved  ...      NaN   \n",
       "1    2025-02-12       7180.37          7180.37     Approved  ...      NaN   \n",
       "2    2023-07-24       6067.36          6067.36     Approved  ...      NaN   \n",
       "3    2024-07-17       5494.34          5494.34     Approved  ...      E04   \n",
       "4    2024-05-04       4294.18          3246.75      Pending  ...      A00   \n",
       "\n",
       "  cpt_code ada_code is_compliant    city submission_lag  processing_time  \\\n",
       "0      NaN    D7210        False  Makkah            422               14   \n",
       "1      NaN    D1110         True  Medina            300               30   \n",
       "2      NaN    D2740        False  Medina            195               18   \n",
       "3  99203.0      NaN         True  Medina            385               11   \n",
       "4  99202.0      NaN         True  Jeddah             71               20   \n",
       "\n",
       "  total_cycle_time  %_Claims_Submitted_Late  %_Claims_Processed_Late  \n",
       "0              436                      100                        0  \n",
       "1              330                      100                        0  \n",
       "2              213                      100                        0  \n",
       "3              396                      100                        0  \n",
       "4               91                      100                        0  \n",
       "\n",
       "[5 rows x 23 columns]"
      ]
     },
     "execution_count": 406,
     "metadata": {},
     "output_type": "execute_result"
    }
   ],
   "source": [
    "data.head()"
   ]
  },
  {
   "cell_type": "code",
   "execution_count": 407,
   "id": "92563a5f",
   "metadata": {},
   "outputs": [
    {
     "data": {
      "text/html": [
       "<div>\n",
       "<style scoped>\n",
       "    .dataframe tbody tr th:only-of-type {\n",
       "        vertical-align: middle;\n",
       "    }\n",
       "\n",
       "    .dataframe tbody tr th {\n",
       "        vertical-align: top;\n",
       "    }\n",
       "\n",
       "    .dataframe thead th {\n",
       "        text-align: right;\n",
       "    }\n",
       "</style>\n",
       "<table border=\"1\" class=\"dataframe\">\n",
       "  <thead>\n",
       "    <tr style=\"text-align: right;\">\n",
       "      <th></th>\n",
       "      <th>service_date</th>\n",
       "      <th>submission_date</th>\n",
       "      <th>decision_date</th>\n",
       "      <th>claim_amount</th>\n",
       "      <th>approved_amount</th>\n",
       "      <th>cpt_code</th>\n",
       "      <th>submission_lag</th>\n",
       "      <th>processing_time</th>\n",
       "      <th>total_cycle_time</th>\n",
       "      <th>%_Claims_Submitted_Late</th>\n",
       "      <th>%_Claims_Processed_Late</th>\n",
       "    </tr>\n",
       "  </thead>\n",
       "  <tbody>\n",
       "    <tr>\n",
       "      <th>count</th>\n",
       "      <td>50000</td>\n",
       "      <td>50000</td>\n",
       "      <td>50000</td>\n",
       "      <td>50000.000000</td>\n",
       "      <td>50000.000000</td>\n",
       "      <td>24940.000000</td>\n",
       "      <td>50000.00000</td>\n",
       "      <td>50000.000000</td>\n",
       "      <td>50000.000000</td>\n",
       "      <td>50000.000000</td>\n",
       "      <td>50000.0</td>\n",
       "    </tr>\n",
       "    <tr>\n",
       "      <th>mean</th>\n",
       "      <td>2023-06-02 20:43:57.504000</td>\n",
       "      <td>2024-06-03 17:48:21.888000</td>\n",
       "      <td>2024-06-19 05:49:18.912000256</td>\n",
       "      <td>5031.154398</td>\n",
       "      <td>4481.441959</td>\n",
       "      <td>99203.006095</td>\n",
       "      <td>366.87806</td>\n",
       "      <td>15.500660</td>\n",
       "      <td>382.378720</td>\n",
       "      <td>93.250000</td>\n",
       "      <td>0.0</td>\n",
       "    </tr>\n",
       "    <tr>\n",
       "      <th>min</th>\n",
       "      <td>2022-06-05 00:00:00</td>\n",
       "      <td>2023-06-05 00:00:00</td>\n",
       "      <td>2023-06-06 00:00:00</td>\n",
       "      <td>100.720000</td>\n",
       "      <td>0.310000</td>\n",
       "      <td>99201.000000</td>\n",
       "      <td>1.00000</td>\n",
       "      <td>1.000000</td>\n",
       "      <td>2.000000</td>\n",
       "      <td>0.000000</td>\n",
       "      <td>0.0</td>\n",
       "    </tr>\n",
       "    <tr>\n",
       "      <th>25%</th>\n",
       "      <td>2022-11-16 00:00:00</td>\n",
       "      <td>2023-12-04 00:00:00</td>\n",
       "      <td>2023-12-20 00:00:00</td>\n",
       "      <td>2542.370000</td>\n",
       "      <td>1858.560000</td>\n",
       "      <td>99202.000000</td>\n",
       "      <td>167.00000</td>\n",
       "      <td>8.000000</td>\n",
       "      <td>183.000000</td>\n",
       "      <td>100.000000</td>\n",
       "      <td>0.0</td>\n",
       "    </tr>\n",
       "    <tr>\n",
       "      <th>50%</th>\n",
       "      <td>2023-04-28 00:00:00</td>\n",
       "      <td>2024-06-02 00:00:00</td>\n",
       "      <td>2024-06-18 00:00:00</td>\n",
       "      <td>5034.175000</td>\n",
       "      <td>4254.980000</td>\n",
       "      <td>99203.000000</td>\n",
       "      <td>333.00000</td>\n",
       "      <td>16.000000</td>\n",
       "      <td>349.000000</td>\n",
       "      <td>100.000000</td>\n",
       "      <td>0.0</td>\n",
       "    </tr>\n",
       "    <tr>\n",
       "      <th>75%</th>\n",
       "      <td>2023-11-10 00:00:00</td>\n",
       "      <td>2024-12-04 00:00:00</td>\n",
       "      <td>2024-12-20 00:00:00</td>\n",
       "      <td>7515.505000</td>\n",
       "      <td>6956.987500</td>\n",
       "      <td>99204.000000</td>\n",
       "      <td>530.00000</td>\n",
       "      <td>23.000000</td>\n",
       "      <td>546.000000</td>\n",
       "      <td>100.000000</td>\n",
       "      <td>0.0</td>\n",
       "    </tr>\n",
       "    <tr>\n",
       "      <th>max</th>\n",
       "      <td>2025-05-31 00:00:00</td>\n",
       "      <td>2025-06-04 00:00:00</td>\n",
       "      <td>2025-07-04 00:00:00</td>\n",
       "      <td>9999.780000</td>\n",
       "      <td>9999.690000</td>\n",
       "      <td>99205.000000</td>\n",
       "      <td>1084.00000</td>\n",
       "      <td>30.000000</td>\n",
       "      <td>1113.000000</td>\n",
       "      <td>100.000000</td>\n",
       "      <td>0.0</td>\n",
       "    </tr>\n",
       "    <tr>\n",
       "      <th>std</th>\n",
       "      <td>NaN</td>\n",
       "      <td>NaN</td>\n",
       "      <td>NaN</td>\n",
       "      <td>2863.086653</td>\n",
       "      <td>2922.961103</td>\n",
       "      <td>1.411305</td>\n",
       "      <td>244.37805</td>\n",
       "      <td>8.656569</td>\n",
       "      <td>244.483841</td>\n",
       "      <td>25.088844</td>\n",
       "      <td>0.0</td>\n",
       "    </tr>\n",
       "  </tbody>\n",
       "</table>\n",
       "</div>"
      ],
      "text/plain": [
       "                     service_date             submission_date  \\\n",
       "count                       50000                       50000   \n",
       "mean   2023-06-02 20:43:57.504000  2024-06-03 17:48:21.888000   \n",
       "min           2022-06-05 00:00:00         2023-06-05 00:00:00   \n",
       "25%           2022-11-16 00:00:00         2023-12-04 00:00:00   \n",
       "50%           2023-04-28 00:00:00         2024-06-02 00:00:00   \n",
       "75%           2023-11-10 00:00:00         2024-12-04 00:00:00   \n",
       "max           2025-05-31 00:00:00         2025-06-04 00:00:00   \n",
       "std                           NaN                         NaN   \n",
       "\n",
       "                       decision_date  claim_amount  approved_amount  \\\n",
       "count                          50000  50000.000000     50000.000000   \n",
       "mean   2024-06-19 05:49:18.912000256   5031.154398      4481.441959   \n",
       "min              2023-06-06 00:00:00    100.720000         0.310000   \n",
       "25%              2023-12-20 00:00:00   2542.370000      1858.560000   \n",
       "50%              2024-06-18 00:00:00   5034.175000      4254.980000   \n",
       "75%              2024-12-20 00:00:00   7515.505000      6956.987500   \n",
       "max              2025-07-04 00:00:00   9999.780000      9999.690000   \n",
       "std                              NaN   2863.086653      2922.961103   \n",
       "\n",
       "           cpt_code  submission_lag  processing_time  total_cycle_time  \\\n",
       "count  24940.000000     50000.00000     50000.000000      50000.000000   \n",
       "mean   99203.006095       366.87806        15.500660        382.378720   \n",
       "min    99201.000000         1.00000         1.000000          2.000000   \n",
       "25%    99202.000000       167.00000         8.000000        183.000000   \n",
       "50%    99203.000000       333.00000        16.000000        349.000000   \n",
       "75%    99204.000000       530.00000        23.000000        546.000000   \n",
       "max    99205.000000      1084.00000        30.000000       1113.000000   \n",
       "std        1.411305       244.37805         8.656569        244.483841   \n",
       "\n",
       "       %_Claims_Submitted_Late  %_Claims_Processed_Late  \n",
       "count             50000.000000                  50000.0  \n",
       "mean                 93.250000                      0.0  \n",
       "min                   0.000000                      0.0  \n",
       "25%                 100.000000                      0.0  \n",
       "50%                 100.000000                      0.0  \n",
       "75%                 100.000000                      0.0  \n",
       "max                 100.000000                      0.0  \n",
       "std                  25.088844                      0.0  "
      ]
     },
     "execution_count": 407,
     "metadata": {},
     "output_type": "execute_result"
    }
   ],
   "source": [
    "data.describe()"
   ]
  },
  {
   "cell_type": "markdown",
   "id": "df6623cc",
   "metadata": {},
   "source": [
    "| **Issue**                                | **Impact**                             | **Recommended Actions**                                                 |\n",
    "| ---------------------------------------- | -------------------------------------- | ----------------------------------------------------------------------- |\n",
    "| Very high submission lag (\\~1 year)      | Delayed reimbursements, non-compliance | Work with providers to adopt **real-time EHR submission** systems       |\n",
    "| Long processing times (>10 days for 66%) | Member dissatisfaction, SLA breaches   | **Automate adjudication**, improve staff allocation, and implement SLAs |\n",
    "| Total cycle time > 1 year                | Legal/regulatory risk                  | **Audit submission and service dates**, explore backlogs                |\n",
    "| 99.23% late submission                   | Systemic process issue                 | Investigate **claim entry systems or batch loads**                      |\n"
   ]
  },
  {
   "cell_type": "code",
   "execution_count": 408,
   "id": "7a84516c",
   "metadata": {},
   "outputs": [
    {
     "data": {
      "text/html": [
       "<div>\n",
       "<style scoped>\n",
       "    .dataframe tbody tr th:only-of-type {\n",
       "        vertical-align: middle;\n",
       "    }\n",
       "\n",
       "    .dataframe tbody tr th {\n",
       "        vertical-align: top;\n",
       "    }\n",
       "\n",
       "    .dataframe thead th {\n",
       "        text-align: right;\n",
       "    }\n",
       "</style>\n",
       "<table border=\"1\" class=\"dataframe\">\n",
       "  <thead>\n",
       "    <tr style=\"text-align: right;\">\n",
       "      <th></th>\n",
       "      <th>submission_lag</th>\n",
       "      <th>processing_time</th>\n",
       "      <th>total_cycle_time</th>\n",
       "    </tr>\n",
       "    <tr>\n",
       "      <th>city</th>\n",
       "      <th></th>\n",
       "      <th></th>\n",
       "      <th></th>\n",
       "    </tr>\n",
       "  </thead>\n",
       "  <tbody>\n",
       "    <tr>\n",
       "      <th>Dammam</th>\n",
       "      <td>364.743109</td>\n",
       "      <td>15.483145</td>\n",
       "      <td>380.226254</td>\n",
       "    </tr>\n",
       "    <tr>\n",
       "      <th>Jeddah</th>\n",
       "      <td>368.570449</td>\n",
       "      <td>15.598991</td>\n",
       "      <td>384.169440</td>\n",
       "    </tr>\n",
       "    <tr>\n",
       "      <th>Makkah</th>\n",
       "      <td>363.737043</td>\n",
       "      <td>15.423267</td>\n",
       "      <td>379.160310</td>\n",
       "    </tr>\n",
       "    <tr>\n",
       "      <th>Medina</th>\n",
       "      <td>368.098903</td>\n",
       "      <td>15.583749</td>\n",
       "      <td>383.682652</td>\n",
       "    </tr>\n",
       "    <tr>\n",
       "      <th>Riyadh</th>\n",
       "      <td>369.242524</td>\n",
       "      <td>15.414673</td>\n",
       "      <td>384.657197</td>\n",
       "    </tr>\n",
       "  </tbody>\n",
       "</table>\n",
       "</div>"
      ],
      "text/plain": [
       "        submission_lag  processing_time  total_cycle_time\n",
       "city                                                     \n",
       "Dammam      364.743109        15.483145        380.226254\n",
       "Jeddah      368.570449        15.598991        384.169440\n",
       "Makkah      363.737043        15.423267        379.160310\n",
       "Medina      368.098903        15.583749        383.682652\n",
       "Riyadh      369.242524        15.414673        384.657197"
      ]
     },
     "execution_count": 408,
     "metadata": {},
     "output_type": "execute_result"
    }
   ],
   "source": [
    "data.groupby('city')[['submission_lag', 'processing_time', 'total_cycle_time']].mean()"
   ]
  },
  {
   "cell_type": "code",
   "execution_count": 409,
   "id": "c70c2548",
   "metadata": {},
   "outputs": [
    {
     "name": "stdout",
     "output_type": "stream",
     "text": [
      "<class 'pandas.core.frame.DataFrame'>\n",
      "RangeIndex: 50000 entries, 0 to 49999\n",
      "Data columns (total 23 columns):\n",
      " #   Column                   Non-Null Count  Dtype         \n",
      "---  ------                   --------------  -----         \n",
      " 0   claim_id                 50000 non-null  object        \n",
      " 1   member_id                50000 non-null  object        \n",
      " 2   provider_id              50000 non-null  object        \n",
      " 3   claim_type               50000 non-null  object        \n",
      " 4   service_date             50000 non-null  datetime64[ns]\n",
      " 5   submission_date          50000 non-null  datetime64[ns]\n",
      " 6   decision_date            50000 non-null  datetime64[ns]\n",
      " 7   claim_amount             50000 non-null  float64       \n",
      " 8   approved_amount          50000 non-null  float64       \n",
      " 9   claim_status             50000 non-null  object        \n",
      " 10  adjudicator_id           50000 non-null  object        \n",
      " 11  denial_reason            10038 non-null  object        \n",
      " 12  policy_id                50000 non-null  object        \n",
      " 13  icd_code                 24940 non-null  object        \n",
      " 14  cpt_code                 24940 non-null  float64       \n",
      " 15  ada_code                 25060 non-null  object        \n",
      " 16  is_compliant             50000 non-null  bool          \n",
      " 17  city                     50000 non-null  object        \n",
      " 18  submission_lag           50000 non-null  int64         \n",
      " 19  processing_time          50000 non-null  int64         \n",
      " 20  total_cycle_time         50000 non-null  int64         \n",
      " 21  %_Claims_Submitted_Late  50000 non-null  int64         \n",
      " 22  %_Claims_Processed_Late  50000 non-null  int64         \n",
      "dtypes: bool(1), datetime64[ns](3), float64(3), int64(5), object(11)\n",
      "memory usage: 8.4+ MB\n"
     ]
    }
   ],
   "source": [
    "data.info()"
   ]
  },
  {
   "cell_type": "code",
   "execution_count": 410,
   "id": "b3c7b344",
   "metadata": {},
   "outputs": [
    {
     "name": "stdout",
     "output_type": "stream",
     "text": [
      "💰 Total Claimed Amount: SAR 251,557,719.92\n",
      "✅ Total Approved Amount: SAR 224,072,097.95\n",
      "📊 Average Approval Rate: 89.02%\n",
      "🚫 Denial/Reduction Rate: 10.98%\n",
      "🎯 % of Fully Approved Claims: 79.92%\n",
      "🔍 Number of Underpaid Claims: 10,038\n"
     ]
    }
   ],
   "source": [
    "# Calculate approval ratio per claim\n",
    "data['approval_rate'] = data['approved_amount'] / data['claim_amount'] *100\n",
    "\n",
    "# KPI calculations\n",
    "total_claimed = data['claim_amount'].sum()\n",
    "total_approved = data['approved_amount'].sum()\n",
    "average_approval_rate = data['approval_rate'].mean() \n",
    "denial_rate = 100 - average_approval_rate\n",
    "fully_approved_pct = (data['claim_amount'] == data['approved_amount']).mean() * 100\n",
    "underpaid_claims = (data['approved_amount'] < data['claim_amount']).sum()\n",
    "\n",
    "# Show results\n",
    "print(f\"💰 Total Claimed Amount: SAR {total_claimed:,.2f}\")\n",
    "print(f\"✅ Total Approved Amount: SAR {total_approved:,.2f}\")\n",
    "print(f\"📊 Average Approval Rate: {average_approval_rate:.2f}%\")\n",
    "print(f\"🚫 Denial/Reduction Rate: {denial_rate:.2f}%\")\n",
    "print(f\"🎯 % of Fully Approved Claims: {fully_approved_pct:.2f}%\")\n",
    "print(f\"🔍 Number of Underpaid Claims: {underpaid_claims:,}\")"
   ]
  },
  {
   "cell_type": "code",
   "execution_count": 411,
   "id": "9a940849",
   "metadata": {},
   "outputs": [
    {
     "name": "stdout",
     "output_type": "stream",
     "text": [
      "💰 Total Estimated Cost: SAR 179,257,678.36\n",
      "✅ Total Estimated Profit: SAR 44,814,419.59\n",
      "📊 Average Estimated Profit Margin: 20.00%\n",
      "📊 Average Estimated Cost: SAR 3,585.15\n"
     ]
    }
   ],
   "source": [
    "# Assume fixed cost ratio of 80% for medical services\n",
    "data['estimated_cost'] = data['approved_amount'] * 0.80\n",
    "data['estimated_profit'] = data['approved_amount'] - data['estimated_cost']\n",
    "data['estimated_profit_margin'] = data['estimated_profit'] / data['approved_amount'] * 100\n",
    "\n",
    "# KPI calculations\n",
    "total_estimated_cost = data['estimated_cost'].sum()\n",
    "total_estimated_profit = data['estimated_profit'].sum()\n",
    "average_estimated_profit_margin = data['estimated_profit_margin'].mean()\n",
    "average_estimated_cost = data['estimated_cost'].mean()\n",
    "\n",
    "# Show results\n",
    "print(f\"💰 Total Estimated Cost: SAR {total_estimated_cost:,.2f}\")\n",
    "print(f\"✅ Total Estimated Profit: SAR {total_estimated_profit:,.2f}\")\n",
    "print(f\"📊 Average Estimated Profit Margin: {average_estimated_profit_margin:.2f}%\")\n",
    "print(f\"📊 Average Estimated Cost: SAR {average_estimated_cost:,.2f}\")"
   ]
  },
  {
   "cell_type": "code",
   "execution_count": 412,
   "id": "dc0743b7",
   "metadata": {},
   "outputs": [
    {
     "name": "stdout",
     "output_type": "stream",
     "text": [
      "denial_reason\n",
      "Over Limit         2564\n",
      "Not Covered        2561\n",
      "Invalid Code       2473\n",
      "Incomplete Info    2440\n",
      "Name: count, dtype: int64\n"
     ]
    }
   ],
   "source": [
    "underpaid_data = data[data['approved_amount'] < data['claim_amount']]\n",
    "denial_summary = underpaid_data['denial_reason'].value_counts(dropna=False)\n",
    "print(denial_summary)"
   ]
  },
  {
   "cell_type": "code",
   "execution_count": 413,
   "id": "704a74f8",
   "metadata": {},
   "outputs": [
    {
     "name": "stdout",
     "output_type": "stream",
     "text": [
      "Missing CPT codes in underpaid claims: 5033\n",
      "Missing ICD codes in underpaid claims: 5033\n"
     ]
    }
   ],
   "source": [
    "missing_cpt = underpaid_data['cpt_code'].isna().sum()\n",
    "missing_icd = underpaid_data['icd_code'].isna().sum()\n",
    "print(f\"Missing CPT codes in underpaid claims: {missing_cpt}\")\n",
    "print(f\"Missing ICD codes in underpaid claims: {missing_icd}\")"
   ]
  },
  {
   "cell_type": "code",
   "execution_count": 414,
   "id": "5d17b275",
   "metadata": {},
   "outputs": [
    {
     "name": "stdout",
     "output_type": "stream",
     "text": [
      "claim_type\n",
      "Dental     5033\n",
      "Medical    5005\n",
      "Name: count, dtype: int64\n"
     ]
    }
   ],
   "source": [
    "underpaid_by_type = underpaid_data['claim_type'].value_counts()\n",
    "print(underpaid_by_type)"
   ]
  },
  {
   "cell_type": "code",
   "execution_count": 415,
   "id": "29d2b184",
   "metadata": {},
   "outputs": [
    {
     "name": "stdout",
     "output_type": "stream",
     "text": [
      "✅ Dental claims with missing CPT/ICD but have ADA code: 5033\n"
     ]
    }
   ],
   "source": [
    "missing_cpt_icd_but_has_ada = underpaid_data[(underpaid_data['claim_type'] == 'Dental') & (underpaid_data['ada_code'].notna())]\n",
    "print(f\"✅ Dental claims with missing CPT/ICD but have ADA code: {len(missing_cpt_icd_but_has_ada)}\")"
   ]
  },
  {
   "cell_type": "code",
   "execution_count": 416,
   "id": "552afe99",
   "metadata": {},
   "outputs": [
    {
     "name": "stdout",
     "output_type": "stream",
     "text": [
      "provider_id\n",
      "P168    22\n",
      "P853    21\n",
      "P152    21\n",
      "P701    21\n",
      "P359    20\n",
      "P893    20\n",
      "P423    20\n",
      "P996    20\n",
      "P467    20\n",
      "P888    20\n",
      "Name: count, dtype: int64\n"
     ]
    }
   ],
   "source": [
    "underpaid_by_provider = underpaid_data['provider_id'].value_counts().head(10)\n",
    "print(underpaid_by_provider)"
   ]
  },
  {
   "cell_type": "markdown",
   "id": "90d9c28d",
   "metadata": {},
   "source": [
    "## 📝 **Key Insights & Recommendations**\n",
    "\n",
    "* **Dental Claims Issue:** All dental claims are underpaid because they correctly use ADA codes but lack CPT/ICD codes expected by your system.\n",
    "  ➡️ Fix validation logic to accept ADA codes for dental claims and avoid false denials.\n",
    "\n",
    "* **Denial Reasons:** Evenly distributed among over-limit, not-covered, invalid code, and incomplete info — suggests systemic issues.\n",
    "  ➡️ Investigate policies, educate providers, and improve claim completeness.\n",
    "\n",
    "* **Provider Impact:** Underpayment is widespread across providers, pointing to claim type and data quality issues rather than individual provider behavior.\n",
    "\n"
   ]
  },
  {
   "cell_type": "code",
   "execution_count": 417,
   "id": "286a9301",
   "metadata": {},
   "outputs": [
    {
     "name": "stdout",
     "output_type": "stream",
     "text": [
      "    provider_id  provider_approval_rate\n",
      "887        P987                0.734171\n",
      "256        P356                0.774702\n",
      "684        P784                0.775167\n",
      "860        P960                0.780685\n",
      "740        P840                0.780693\n",
      "..          ...                     ...\n",
      "152        P252                0.849632\n",
      "731        P831                0.849647\n",
      "55         P155                0.849713\n",
      "622        P722                0.849847\n",
      "313        P413                0.849915\n",
      "\n",
      "[119 rows x 2 columns]\n"
     ]
    },
    {
     "name": "stderr",
     "output_type": "stream",
     "text": [
      "C:\\Users\\DELL2025\\AppData\\Local\\Temp\\ipykernel_25568\\1322436079.py:1: DeprecationWarning: DataFrameGroupBy.apply operated on the grouping columns. This behavior is deprecated, and in a future version of pandas the grouping columns will be excluded from the operation. Either pass `include_groups=False` to exclude the groupings or explicitly select the grouping columns after groupby to silence this warning.\n",
      "  provider_approval = data.groupby('provider_id').apply(\n"
     ]
    }
   ],
   "source": [
    "provider_approval = data.groupby('provider_id').apply(\n",
    "    lambda x: x['approved_amount'].sum() / x['claim_amount'].sum()\n",
    ").reset_index(name='provider_approval_rate')\n",
    "\n",
    "# Identify low-performing providers (e.g., < 85%)\n",
    "low_perf_providers = provider_approval[provider_approval['provider_approval_rate'] < 0.85]\n",
    "print(low_perf_providers.sort_values('provider_approval_rate'))\n"
   ]
  },
  {
   "cell_type": "code",
   "execution_count": 418,
   "id": "54e487f6",
   "metadata": {},
   "outputs": [
    {
     "name": "stdout",
     "output_type": "stream",
     "text": [
      "  claim_type  claim_type_approval_rate\n",
      "0     Dental                  0.889661\n",
      "1    Medical                  0.891814\n"
     ]
    },
    {
     "name": "stderr",
     "output_type": "stream",
     "text": [
      "C:\\Users\\DELL2025\\AppData\\Local\\Temp\\ipykernel_25568\\3911227235.py:1: DeprecationWarning: DataFrameGroupBy.apply operated on the grouping columns. This behavior is deprecated, and in a future version of pandas the grouping columns will be excluded from the operation. Either pass `include_groups=False` to exclude the groupings or explicitly select the grouping columns after groupby to silence this warning.\n",
      "  type_approval = data.groupby('claim_type').apply(\n"
     ]
    }
   ],
   "source": [
    "type_approval = data.groupby('claim_type').apply(\n",
    "    lambda x: x['approved_amount'].sum() / x['claim_amount'].sum()\n",
    ").reset_index(name='claim_type_approval_rate')\n",
    "print(type_approval)\n"
   ]
  },
  {
   "cell_type": "code",
   "execution_count": 419,
   "id": "905ad8ba",
   "metadata": {},
   "outputs": [
    {
     "name": "stdout",
     "output_type": "stream",
     "text": [
      "provider_id\n",
      "P987    1542.630500\n",
      "P784    1235.921667\n",
      "P349    1136.328864\n",
      "P230    1115.859070\n",
      "P407    1105.959286\n",
      "P827    1102.680577\n",
      "P249    1101.909683\n",
      "P690    1084.375400\n",
      "P425    1083.943137\n",
      "P467    1052.629516\n",
      "Name: reduction_amount, dtype: float64\n"
     ]
    }
   ],
   "source": [
    "data['reduction_amount'] = data['claim_amount'] - data['approved_amount']\n",
    "reduction_by_provider = data.groupby('provider_id')['reduction_amount'].mean().sort_values(ascending=False).head(10)\n",
    "print(reduction_by_provider)\n"
   ]
  },
  {
   "cell_type": "markdown",
   "id": "6983aacb",
   "metadata": {},
   "source": [
    "## 📝 **Recommendations**\n",
    "\n",
    "1. **Focus Audit and Training on Low-Performing Providers**\n",
    "\n",
    "   * Engage providers like P987 and P784 to understand common denial reasons.\n",
    "   * Provide targeted training on claim coding and documentation.\n",
    "\n",
    "2. **Investigate Specific Denial Patterns**\n",
    "\n",
    "   * Check if underperforming providers frequently receive denials for “Invalid Code,” “Over Limit,” or other reasons.\n",
    "   * Use this to tailor provider-specific improvement plans.\n",
    "\n",
    "3. **Monitor High Reduction Amount Providers**\n",
    "\n",
    "   * Providers with large average reductions might be billing more aggressively or submitting questionable claims.\n",
    "   * Consider detailed claims reviews or audits.\n",
    "\n",
    "4. **Maintain Dashboard Monitoring**\n",
    "\n",
    "   * Build dashboards tracking approval rates and reductions by provider and claim type.\n",
    "   * Set alerts for providers whose approval rates drop below thresholds (e.g., 85%).\n",
    "\n"
   ]
  },
  {
   "cell_type": "code",
   "execution_count": 420,
   "id": "e17fa78a",
   "metadata": {},
   "outputs": [
    {
     "name": "stdout",
     "output_type": "stream",
     "text": [
      "is_compliant      False      True \n",
      "status_group                      \n",
      "Approved      49.792303  50.207697\n",
      "Denied        49.253438  50.746562\n",
      "Pending       50.727567  49.272433\n"
     ]
    }
   ],
   "source": [
    "# Calculate % of compliant and non-compliant for each claim_status group (Approved, Pending, Denied)\n",
    "status_map = {\n",
    "    'Approved': 'Approved',\n",
    "    'Pending': 'Pending',\n",
    "    'Denied': 'Denied'\n",
    "}\n",
    "# Map claim_status to simplified categories\n",
    "data['status_group'] = data['claim_status'].map(status_map).fillna('Other')\n",
    "\n",
    "# Group by status_group and is_compliant, then calculate percentages\n",
    "compliance_counts = data.groupby(['status_group', 'is_compliant']).size().unstack(fill_value=0)\n",
    "compliance_pct = compliance_counts.div(compliance_counts.sum(axis=1), axis=0) * 100\n",
    "\n",
    "print(compliance_pct)"
   ]
  },
  {
   "cell_type": "code",
   "execution_count": 421,
   "id": "e1dce236",
   "metadata": {},
   "outputs": [
    {
     "name": "stdout",
     "output_type": "stream",
     "text": [
      "📦 Total Approved & Compliant Claims: 20064\n",
      "⚠️ Reduced Despite Compliance: 0 claims (0.00%)\n"
     ]
    },
    {
     "name": "stderr",
     "output_type": "stream",
     "text": [
      "C:\\Users\\DELL2025\\AppData\\Local\\Temp\\ipykernel_25568\\2188041453.py:5: SettingWithCopyWarning: \n",
      "A value is trying to be set on a copy of a slice from a DataFrame.\n",
      "Try using .loc[row_indexer,col_indexer] = value instead\n",
      "\n",
      "See the caveats in the documentation: https://pandas.pydata.org/pandas-docs/stable/user_guide/indexing.html#returning-a-view-versus-a-copy\n",
      "  approved_compliant['was_reduced'] = approved_compliant['reduction_amount'] > 0\n"
     ]
    }
   ],
   "source": [
    "# Step 1: Filter for Approved + Compliant claims\n",
    "approved_compliant = data[(data['claim_status'] == 'Approved') & (data['is_compliant'] == True)]\n",
    "\n",
    "# Step 2: Check if reduction occurred\n",
    "approved_compliant['was_reduced'] = approved_compliant['reduction_amount'] > 0\n",
    "\n",
    "# Step 3: Count how many were reduced\n",
    "reduced_count = approved_compliant['was_reduced'].sum()\n",
    "total_approved_compliant = len(approved_compliant)\n",
    "reduced_pct = (reduced_count / total_approved_compliant) * 100\n",
    "\n",
    "print(f\"📦 Total Approved & Compliant Claims: {total_approved_compliant}\")\n",
    "print(f\"⚠️ Reduced Despite Compliance: {reduced_count} claims ({reduced_pct:.2f}%)\")\n"
   ]
  },
  {
   "cell_type": "code",
   "execution_count": 422,
   "id": "a15b9537",
   "metadata": {},
   "outputs": [
    {
     "data": {
      "text/plain": [
       "city\n",
       "Makkah    1055\n",
       "Riyadh    1038\n",
       "Dammam    1023\n",
       "Medina    1011\n",
       "Jeddah     963\n",
       "Name: count, dtype: int64"
      ]
     },
     "execution_count": 422,
     "metadata": {},
     "output_type": "execute_result"
    }
   ],
   "source": [
    "data[data['claim_status']=='Denied']['city'].value_counts()"
   ]
  },
  {
   "cell_type": "code",
   "execution_count": 423,
   "id": "60e54f1c",
   "metadata": {},
   "outputs": [
    {
     "data": {
      "text/plain": [
       "city\n",
       "Makkah    546\n",
       "Medina    523\n",
       "Riyadh    521\n",
       "Dammam    513\n",
       "Jeddah    480\n",
       "Name: count, dtype: int64"
      ]
     },
     "execution_count": 423,
     "metadata": {},
     "output_type": "execute_result"
    }
   ],
   "source": [
    "data[(data['is_compliant'] == True) & (data['claim_status'] == 'Denied')]['city'].value_counts()"
   ]
  },
  {
   "cell_type": "code",
   "execution_count": 424,
   "id": "5347d1f8",
   "metadata": {},
   "outputs": [
    {
     "data": {
      "text/plain": [
       "city\n",
       "Jeddah    4054\n",
       "Medina    4021\n",
       "Riyadh    4016\n",
       "Dammam    4014\n",
       "Makkah    3959\n",
       "Name: count, dtype: int64"
      ]
     },
     "execution_count": 424,
     "metadata": {},
     "output_type": "execute_result"
    }
   ],
   "source": [
    "data[(data['is_compliant'] == True) & (data['claim_status'] == 'Approved')]['city'].value_counts()"
   ]
  },
  {
   "cell_type": "code",
   "execution_count": 425,
   "id": "dbc85094",
   "metadata": {},
   "outputs": [
    {
     "name": "stdout",
     "output_type": "stream",
     "text": [
      "city\n",
      "Dammam    0.0\n",
      "Jeddah    0.0\n",
      "Makkah    0.0\n",
      "Medina    0.0\n",
      "Riyadh    0.0\n",
      "Name: reduction_amount, dtype: float64\n"
     ]
    }
   ],
   "source": [
    "# Step 1: Total reduction across all claims\n",
    "total_reduction_all = data['reduction_amount'].sum()\n",
    "\n",
    "# Step 2: Filter for approved & compliant claims\n",
    "approved_compliant = data[(data['is_compliant'] == True) & (data['claim_status'] == 'Approved')]\n",
    "\n",
    "# Step 3: Sum reduction amount by city\n",
    "reduction_by_city = approved_compliant.groupby('city')['reduction_amount'].sum()\n",
    "\n",
    "# Step 4: Calculate % of total reduction amount\n",
    "reduction_pct_by_city = (reduction_by_city / total_reduction_all) * 100\n",
    "\n",
    "# Step 5: Display\n",
    "reduction_pct_by_city = reduction_pct_by_city.sort_values(ascending=False)\n",
    "print(reduction_pct_by_city)\n"
   ]
  },
  {
   "cell_type": "code",
   "execution_count": 426,
   "id": "99d9ad6e",
   "metadata": {},
   "outputs": [
    {
     "name": "stdout",
     "output_type": "stream",
     "text": [
      "city\n",
      "Makkah    5.343289\n",
      "Dammam    5.149274\n",
      "Riyadh    5.121448\n",
      "Medina    5.121228\n",
      "Jeddah    4.905550\n",
      "Name: reduction_amount, dtype: float64\n"
     ]
    }
   ],
   "source": [
    "# Step 1: Total reduction across all claims\n",
    "total_reduction_all = data['reduction_amount'].sum()\n",
    "\n",
    "# Step 2: Filter for approved & compliant claims\n",
    "approved_compliant = data[(data['is_compliant'] == True) & (data['claim_status'] == 'Denied')]\n",
    "\n",
    "# Step 3: Sum reduction amount by city\n",
    "reduction_by_city = approved_compliant.groupby('city')['reduction_amount'].sum()\n",
    "\n",
    "# Step 4: Calculate % of total reduction amount\n",
    "reduction_pct_by_city = (reduction_by_city / total_reduction_all) * 100\n",
    "\n",
    "# Step 5: Display\n",
    "reduction_pct_by_city = reduction_pct_by_city.sort_values(ascending=False)\n",
    "print(reduction_pct_by_city)\n"
   ]
  },
  {
   "cell_type": "code",
   "execution_count": 427,
   "id": "925b9053",
   "metadata": {},
   "outputs": [
    {
     "name": "stdout",
     "output_type": "stream",
     "text": [
      "📊 Denial Reasons for Compliant but Denied Claims:\n",
      "\n",
      "denial_reason\n",
      "Not Covered        655\n",
      "Incomplete Info    653\n",
      "Over Limit         649\n",
      "Invalid Code       626\n",
      "Name: count, dtype: int64\n"
     ]
    }
   ],
   "source": [
    "# Filter for compliant but denied claims\n",
    "compliant_denied = data[(data['is_compliant'] == True) & (data['claim_status'] == 'Denied')]\n",
    "\n",
    "# Count denial reasons\n",
    "denial_reasons_summary = compliant_denied['denial_reason'].value_counts(dropna=False)\n",
    "\n",
    "# Display results\n",
    "print(\"📊 Denial Reasons for Compliant but Denied Claims:\\n\")\n",
    "print(denial_reasons_summary)\n"
   ]
  },
  {
   "cell_type": "markdown",
   "id": "45959798",
   "metadata": {},
   "source": [
    "### 🚀 **Recommended Actions**\n",
    "\n",
    "1. **Review Policy Coverage** — To understand and possibly revise “Not Covered” services causing denials.\n",
    "2. **Refine Compliance Rules** — Address why claims with “Incomplete Info” are flagged compliant.\n",
    "3. **Educate Providers** — On coding standards to reduce “Invalid Code” denials.\n",
    "4. **Enhance System Checks** — Automate flags for “Over Limit” claims before submission."
   ]
  },
  {
   "cell_type": "code",
   "execution_count": 428,
   "id": "d3f5b280",
   "metadata": {},
   "outputs": [
    {
     "data": {
      "text/plain": [
       "adjudicator_id\n",
       "A10    131006.59\n",
       "A11    134361.01\n",
       "A12    134839.09\n",
       "A13    151460.61\n",
       "A14    101908.21\n",
       "         ...    \n",
       "A95    135271.99\n",
       "A96    145873.05\n",
       "A97    151594.14\n",
       "A98    127244.46\n",
       "A99    146984.02\n",
       "Name: approved_amount, Length: 90, dtype: float64"
      ]
     },
     "execution_count": 428,
     "metadata": {},
     "output_type": "execute_result"
    }
   ],
   "source": [
    "data[data['claim_status'] == 'Denied'].groupby('adjudicator_id')['approved_amount'].sum()"
   ]
  },
  {
   "cell_type": "markdown",
   "id": "1c9055c2",
   "metadata": {},
   "source": [
    "## 📌 Recommended Actions:\n",
    "\n",
    "1. **Audit adjudication rules**: Ensure consistent use of \"Denied\" vs. \"Partially Approved\".\n",
    "2. **Validate system behavior**: Investigate if `claim_status` logic reflects actual financial transactions.\n",
    "3. **Flag top adjudicators** with highest **approved\\_amount for denied claims** for review.\n",
    "4. **Report inconsistencies to compliance or audit teams** — especially when compliant claims are denied **with payout**."
   ]
  },
  {
   "cell_type": "code",
   "execution_count": 429,
   "id": "0162c36a",
   "metadata": {},
   "outputs": [],
   "source": [
    "data.to_csv('Saudi_health_dental_claims.csv', index=False)"
   ]
  }
 ],
 "metadata": {
  "kernelspec": {
   "display_name": "Python 3",
   "language": "python",
   "name": "python3"
  },
  "language_info": {
   "codemirror_mode": {
    "name": "ipython",
    "version": 3
   },
   "file_extension": ".py",
   "mimetype": "text/x-python",
   "name": "python",
   "nbconvert_exporter": "python",
   "pygments_lexer": "ipython3",
   "version": "3.13.3"
  }
 },
 "nbformat": 4,
 "nbformat_minor": 5
}
